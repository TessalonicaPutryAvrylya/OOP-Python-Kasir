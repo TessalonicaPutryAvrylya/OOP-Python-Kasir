{
  "nbformat": 4,
  "nbformat_minor": 0,
  "metadata": {
    "colab": {
      "name": "672020167",
      "provenance": [],
      "collapsed_sections": []
    },
    "kernelspec": {
      "name": "python3",
      "display_name": "Python 3"
    },
    "language_info": {
      "name": "python"
    }
  },
  "cells": [
    {
      "cell_type": "markdown",
      "source": [
        "Tessalonica Putry Avrylya - 672020167"
      ],
      "metadata": {
        "id": "ocuOySuUgyvT"
      }
    },
    {
      "cell_type": "code",
      "source": [
        "from modul import *"
      ],
      "metadata": {
        "id": "_z7qvqPAJcRI"
      },
      "execution_count": null,
      "outputs": []
    },
    {
      "cell_type": "code",
      "source": [
        "print('Menu\\n')\n",
        "print('Kode    Menu             Harga')\n",
        "menu1.tampilkan_profil()\n",
        "menu2.tampilkan_profil()\n",
        "menu3.tampilkan_profil()\n",
        "\n",
        "#inputan kode\n",
        "kode=int(input(\"\\nMasukkan Kode: \"))\n",
        "#instance jumlah_pesanan dalam type int\n",
        "jumlah_pesanan=int(input(\"Masukkan Jumlah Pesanan: \"))\n",
        "\n",
        "#percabangan\n",
        "if kode==1:\n",
        "#instance harga\n",
        "  harga=9\n",
        "#instance total\n",
        "  print('Total : Rp.',total(harga,jumlah_pesanan),',000')\n",
        "elif kode==2:\n",
        "#instance harga\n",
        "  harga=12\n",
        "#instance total\n",
        "  print('Total : Rp.',total(harga,jumlah_pesanan),',000')\n",
        "elif kode==3:\n",
        "#instance harga\n",
        "  harga=18\n",
        "#instance total\n",
        "  print('Total : Rp.',total(harga,jumlah_pesanan),',000')"
      ],
      "metadata": {
        "colab": {
          "base_uri": "https://localhost:8080/"
        },
        "id": "k8B6Xg754JQa",
        "outputId": "7ec9f34a-642b-4a71-bdc7-3acd57440980"
      },
      "execution_count": null,
      "outputs": [
        {
          "output_type": "stream",
          "name": "stdout",
          "text": [
            "Menu\n",
            "\n",
            "Kode    Menu             Harga\n",
            "1 \tJus Mangga\t Rp.9.000\n",
            "2 \tNasi Goreng\t Rp.12.000\n",
            "3 \tPaket Hemat\t Rp.18.000\n",
            "\n",
            "Masukkan Kode: 3\n",
            "Masukkan Jumlah Pesanan: 2\n",
            "Total : Rp. 36 ,000\n"
          ]
        }
      ]
    }
  ]
}